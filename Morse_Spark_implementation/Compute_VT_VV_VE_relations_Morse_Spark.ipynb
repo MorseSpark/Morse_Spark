{
 "cells": [
  {
   "cell_type": "code",
   "execution_count": 1,
   "id": "hungarian-kitchen",
   "metadata": {},
   "outputs": [],
   "source": [
    "import findspark\n",
    "import os\n",
    "#findspark.init() \n",
    "SPARK_HOME='/opt/cloudera/parcels/CDH/lib/spark'\n",
    "# SPARK_HOME='/home/qiany/.conda/envs/py37'\n",
    "# os.environ['SPARK_HOME'] = '/home/qiany/.conda/envs/py37'\n",
    "findspark.init(SPARK_HOME)"
   ]
  },
  {
   "cell_type": "code",
   "execution_count": 2,
   "id": "accessible-reform",
   "metadata": {},
   "outputs": [],
   "source": [
    "import time\n",
    "import math\n",
    "import copy\n",
    "import csv\n",
    "import json\n",
    "import os\n",
    "import codecs\n",
    "import subprocess\n",
    "#from hdfs import InsecureClient\n",
    "import numpy as np\n",
    "#from pyspark import SparkContext\n",
    "from pyspark import SQLContext\n",
    "from pyspark.sql import Row\n",
    "from pyspark.sql import functions as F\n",
    "from pyspark.sql.functions import array_union,flatten,array_sort,coalesce,broadcast,collect_list, collect_set, udf, array_remove, log, lit, first, col, array, sort_array,split, explode, desc, asc, row_number,isnan, when, count\n",
    "from pyspark.sql.types import *\n",
    "import rtree\n",
    "from pyspark.sql import Window\n",
    "#import igraph\n",
    "#from igraph import Graph\n",
    "import geofeather\n",
    "from pyspark.storagelevel import StorageLevel"
   ]
  },
  {
   "cell_type": "code",
   "execution_count": 3,
   "id": "imported-flashing",
   "metadata": {},
   "outputs": [
    {
     "name": "stdin",
     "output_type": "stream",
     "text": [
      "Here is a programe to compute the Forman gradient, please input the absolute or relative path to your TIN file: SigSpatial_data/Canyon_Lake_Gorge_TX.off\n"
     ]
    },
    {
     "name": "stdout",
     "output_type": "stream",
     "text": [
      "\n",
      "********************\n",
      "tin_directory:  SigSpatial_data\n"
     ]
    },
    {
     "name": "stdin",
     "output_type": "stream",
     "text": [
      "Is the data stored in hdfs(0) or SigSpatial(1): 1\n"
     ]
    },
    {
     "name": "stdout",
     "output_type": "stream",
     "text": [
      "tin_basename:  Canyon_Lake_Gorge_TX.off\n",
      "tin_filename:  Canyon_Lake_Gorge_TX\n",
      "tin_extension:  .off\n",
      "\n",
      "********************\n"
     ]
    }
   ],
   "source": [
    "tin_file = input(\"Here is a programe to compute the Forman gradient, please input the absolute or relative path to your TIN file:\")\n",
    "print(\"\\n********************\")\n",
    "\n",
    "# get the directory to the TIN file\n",
    "tin_directory = os.path.dirname(tin_file)\n",
    "print(\"tin_directory: \", tin_directory)\n",
    "\n",
    "directory_type = input(\"Is the data stored in hdfs(0) or SigSpatial(1):\") or \"1\"\n",
    "if directory_type == '0':\n",
    "    directory = 'hdfs_data'\n",
    "else:\n",
    "    directory = 'SigSpatial_data'\n",
    "    \n",
    "# get the basename to the TIN file\n",
    "tin_basename = os.path.basename(tin_file) # input_vertices_2.off\n",
    "print(\"tin_basename: \", tin_basename)\n",
    "\n",
    "# get the filename of the TIN file\n",
    "tin_filename = os.path.splitext(tin_basename)[0] # input_vertices_2\n",
    "print(\"tin_filename: \", tin_filename)\n",
    "\n",
    "# get the type of TIN file: off, tri, etc\n",
    "tin_extension = os.path.splitext(tin_basename)[1] # .off\n",
    "print(\"tin_extension: \", tin_extension)\n",
    "print(\"\\n********************\")"
   ]
  },
  {
   "cell_type": "code",
   "execution_count": 4,
   "id": "changing-columbus",
   "metadata": {},
   "outputs": [
    {
     "name": "stdin",
     "output_type": "stream",
     "text": [
      "Do you have filtration data? yes\n",
      "spark.executor.instances: 64\n",
      "spark.executor.cores: 5\n",
      "spark.executor.memory? Please end with 'g': 64g\n",
      "spark.executor.memoryOverhead? Please end with 'g': 8g\n",
      "spark.sql.shuffle.partitions: 200\n"
     ]
    }
   ],
   "source": [
    "# filtra is the order of each vertex, the order is obtained by ranking elevation values of vertices\n",
    "filtra = input(\"Do you have filtration data?\") or \"yes\"\n",
    "# filtra = 'yes'\n",
    "\n",
    "if filtra.lower() == 'no':    \n",
    "    Basic_Data = input(\"Do you have basic pts and tri data?\")\n",
    "    \n",
    "Num_executor = input(\"spark.executor.instances:\") or \"64\"\n",
    "Num_core_per_executor = input(\"spark.executor.cores:\") or \"5\"\n",
    "Memory_executor = input(\"spark.executor.memory? Please end with 'g':\") or \"64g\"\n",
    "MemoryOverhead_executor = input(\"spark.executor.memoryOverhead? Please end with 'g':\") or \"8g\"\n",
    "\n",
    "# Num_core_per_driver = Num_core_per_executor\n",
    "# Memory_driver = Memory_executor\n",
    "# MemoryOverhead_driver = MemoryOverhead_executor\n",
    "\n",
    "Num_core_per_driver = '5'\n",
    "Memory_driver = '12g'\n",
    "MemoryOverhead_driver = '4g'\n",
    "\n",
    "Num_shuffle_partitions = input(\"spark.sql.shuffle.partitions:\") or \"200\""
   ]
  },
  {
   "cell_type": "code",
   "execution_count": 5,
   "id": "atmospheric-commonwealth",
   "metadata": {},
   "outputs": [],
   "source": [
    "from pyspark.sql import SparkSession\n",
    "from pyspark import StorageLevel\n",
    "import geopandas as gpd\n",
    "import pandas as pd\n",
    "from pyspark.sql.types import StructType, StructField, StringType, IntegerType, LongType, FloatType, ArrayType, MapType\n",
    "from shapely.geometry import Point\n",
    "from shapely.geometry import Polygon\n",
    "\n",
    "from sedona.register import SedonaRegistrator\n",
    "from sedona.core.SpatialRDD import SpatialRDD, PointRDD, CircleRDD, PolygonRDD, LineStringRDD\n",
    "from sedona.core.enums import FileDataSplitter\n",
    "from sedona.utils.adapter import Adapter\n",
    "from sedona.core.spatialOperator import KNNQuery\n",
    "from sedona.core.spatialOperator import JoinQuery\n",
    "from sedona.core.spatialOperator import JoinQueryRaw\n",
    "from sedona.core.spatialOperator import RangeQuery\n",
    "from sedona.core.spatialOperator import RangeQueryRaw\n",
    "from sedona.core.formatMapper.shapefileParser import ShapefileReader\n",
    "from sedona.core.formatMapper import WkbReader\n",
    "from sedona.core.formatMapper import WktReader\n",
    "from sedona.core.formatMapper import GeoJsonReader\n",
    "from sedona.sql.types import GeometryType\n",
    "from sedona.core.enums import GridType\n",
    "from sedona.core.SpatialRDD import RectangleRDD\n",
    "from sedona.core.enums import IndexType\n",
    "from sedona.core.geom.envelope import Envelope\n",
    "from sedona.utils import SedonaKryoRegistrator, KryoSerializer"
   ]
  },
  {
   "cell_type": "code",
   "execution_count": 6,
   "id": "legal-avenue",
   "metadata": {},
   "outputs": [],
   "source": [
    "os.environ['PYSPARK_PYTHON'] = \"./environment/bin/python\"\n",
    "#os.environ['PYSPARK_PYTHON'] = \"/home/qiany/.conda/envs/py37/bin/python\"\n",
    "os.environ['YARN_CONF_DIR'] = \"/opt/cloudera/parcels/CDH/lib/spark/conf/yarn-conf\""
   ]
  },
  {
   "cell_type": "code",
   "execution_count": 7,
   "id": "adverse-trail",
   "metadata": {},
   "outputs": [
    {
     "name": "stdout",
     "output_type": "stream",
     "text": [
      "spark_app_name: Forman_final_Canyon_Lake_Gorge_TX_07112024_1340\n"
     ]
    }
   ],
   "source": [
    "'''\n",
    "spark.executor.cores: # Number of concurrent tasks an executor can run, euqals to the number of cores to use on each executor\n",
    "spark.executor.instances: # Number of executors for the spark application\n",
    "spark.executor.memory: # Amount of memory to use for each executor that runs the task\n",
    "spark.executor.memoryOverhead:\n",
    "spark.driver.cores: # Number of cores to use for the driver process; the default number is 1\n",
    "spark.driver.memory: # Amount of memory to use for the driver\n",
    "spark.driver.maxResultSize: to define the maximum limit of the total size of the serialized result that a driver can store for each Spark collect action\n",
    "spark.default.parallelism: # Default number of partitions in RDDs returned by transformations like join, reduceByKey, and parallelize when not set by user. It can be set as spark.executor.instances * spark.executor.cores * 2\n",
    "spark.sql.shuffle.partitions: determine how many partitions are used when data is shuffled between nodes, e.g., joins or aggregations. usually 1~5 times of executor.instances * executor.cores\n",
    "spark.memory.storageFraction: determines the fraction of the heap space that is allocated to caching RDDs and DataFrames in memory.\n",
    "spark.kryoserializer.buffer.max: determine the maximum of data that can be serialized at once; this must be larger than any object we attempt to serialize\n",
    "spark.rpc.message.maxSize: # Maximum message size (in MiB) to allow in \"control plane\" communication; generally only applies to map output size information sent between executors and the driver. To communicate between the nodes, Spark uses a protocol called RPC (Remote Procedure Call), which sends messages back and forth. The spark.rpc.message.maxSize parameter limits how big these messages can be. \n",
    "spark.sql.broadcastTimeout: Spark will wait for this amount of time before giving up on broadcasting a table. Broadcasting can take a long time if the table is large or if there is a shuffle operation before it.\n",
    "spark.sql.autoBroadcastJoinThreshold: Spark will broadcast a table to all worker nodes when performing a join if its size is less than this value; -1 means disabling broadcasting\n",
    "'''\n",
    "\n",
    "date = time.strftime(\"%m,%d,%Y\")\n",
    "date_name = date.split(',')[0] + date.split(',')[1] + date.split(',')[2]\n",
    "\n",
    "hour = time.strftime(\"%H,%M\")\n",
    "hour_name = hour.split(',')[0] + hour.split(',')[1]\n",
    "\n",
    "# set the Spark app name\n",
    "spark_app_name = \"Forman_final_\" + tin_filename + '_' + date_name + '_' + hour_name\n",
    "print(\"spark_app_name:\", spark_app_name)\n",
    "\n",
    "spark = SparkSession \\\n",
    ".builder \\\n",
    ".appName(spark_app_name) \\\n",
    ".master('yarn') \\\n",
    ".config(\"spark.serializer\", KryoSerializer.getName) \\\n",
    ".config(\"spark.kryo.registrator\", SedonaKryoRegistrator.getName) \\\n",
    ".config('spark.jars','sedona-core-2.4_2.11-1.0.0-incubating.jar,sedona-sql-2.4_2.11-1.0.0-incubating.jar,sedona-python-adapter-2.4_2.11-1.0.0-incubating.jar,sedona-viz-2.4_2.11-1.0.0-incubating.jar,geotools-wrapper-geotools-24.0.jar,graphframes-0.8.0-spark2.4-s_2.11.jar') \\\n",
    ".config('spark.executor.cores', Num_core_per_executor) \\\n",
    ".config('spark.executor.instances', Num_executor) \\\n",
    ".config('spark.executor.memory', Memory_executor) \\\n",
    ".config('spark.executor.memoryOverhead', MemoryOverhead_executor) \\\n",
    ".config('spark.driver.cores', Num_core_per_driver) \\\n",
    ".config('spark.driver.memory', Memory_driver) \\\n",
    ".config('spark.driver.memoryOverhead', MemoryOverhead_driver) \\\n",
    ".config('spark.driver.maxResultSize', '0') \\\n",
    ".config('spark.dynamicAllocation.enabled', 'false') \\\n",
    ".config('spark.network.timeout', '10000001s') \\\n",
    ".config('spark.executor.heartbeatInterval', '10000000s') \\\n",
    ".config('spark.sql.shuffle.partitions', Num_shuffle_partitions) \\\n",
    ".config(\"spark.default.parallelism\", '200') \\\n",
    ".config(\"spark.kryoserializer.buffer.max\", \"1024mb\") \\\n",
    ".config('spark.rpc.message.maxSize', '256') \\\n",
    ".config(\"spark.sql.broadcastTimeout\", \"36000\") \\\n",
    ".config(\"spark.sql.autoBroadcastJoinThreshold\", \"-1\") \\\n",
    ".config(\"spark.python.profile\", \"true\") \\\n",
    ".config(\"spark.eventLog.enabled\", \"true\") \\\n",
    ".config('spark.yarn.dist.archives', '/local/data/yuehui/py37.tar.gz#environment') \\\n",
    ".getOrCreate()"
   ]
  },
  {
   "cell_type": "markdown",
   "id": "classical-lighter",
   "metadata": {},
   "source": [
    "### read input files"
   ]
  },
  {
   "cell_type": "code",
   "execution_count": 8,
   "id": "smooth-addiction",
   "metadata": {},
   "outputs": [
    {
     "name": "stdout",
     "output_type": "stream",
     "text": [
      "Number of partitions for df_ver_order: 200\n",
      "root\n",
      " |-- x: float (nullable = true)\n",
      " |-- y: float (nullable = true)\n",
      " |-- ele: float (nullable = true)\n",
      " |-- self_index: integer (nullable = true)\n",
      " |-- self_order: integer (nullable = true)\n",
      "\n"
     ]
    }
   ],
   "source": [
    "# read_ver_order() is a function used to read vertices from a csv file\n",
    "def read_ver_order(filtra, directory, tin_filename):\n",
    "    '''\n",
    "    this function has three input parameters.\n",
    "    filtra: 'yes' or 'no', yes means that the input csv file is ordered by default\n",
    "    directory: a string denoting the directory to a TIN file\n",
    "    tin_filename: a string denoting the file name of a TIN without extension, e.g., Canyon_Lake_Gorge_TX\n",
    "    '''\n",
    "    if filtra.lower() == 'yes': # 'yes' means we have already computed the filtra value for each vertex\n",
    "        schema_ver_origin = StructType([ \\\n",
    "            StructField(\"x\",FloatType(),True), \\\n",
    "            StructField(\"y\",FloatType(),True), \\\n",
    "            StructField(\"ele\",FloatType(),True), \\\n",
    "            StructField(\"self_index\",IntegerType(),True), \\\n",
    "            StructField(\"self_order\",IntegerType(),True) \\\n",
    "          ])\n",
    "        \n",
    "        hdfs_tin_pts_origin = directory + \"/\" + tin_filename + '_filtra_pts_origin.csv'\n",
    "    \n",
    "        df_ver_order = spark.read.format(\"csv\") \\\n",
    "              .option(\"header\", False) \\\n",
    "              .schema(schema_ver_origin)\\\n",
    "              .load(hdfs_tin_pts_origin)\n",
    "        print(\"Number of partitions for df_ver_order:\", df_ver_order.rdd.getNumPartitions())\n",
    "        \n",
    "    if filtra.lower() == 'no': # 'no' means we need to rank vertices to get their filtra values\n",
    "        schema_ver_origin = StructType([ \\\n",
    "            StructField(\"x\",FloatType(),True), \\\n",
    "            StructField(\"y\",FloatType(),True), \\\n",
    "            StructField(\"ele\",FloatType(),True), \\\n",
    "            StructField(\"self_index\",IntegerType(),True) \\\n",
    "          ])\n",
    "        \n",
    "        hdfs_tin_pts_origin = directory + \"/\" + tin_filename + '_pts_origin.csv'\n",
    "    \n",
    "        df_ver_origin = spark.read.format(\"csv\") \\\n",
    "              .option(\"header\", False) \\\n",
    "              .schema(schema_ver_origin)\\\n",
    "              .load(hdfs_tin_pts_origin)\n",
    "        \n",
    "        print(\"Number of partitions for df_ver_origin:\", df_ver_origin.rdd.getNumPartitions())\n",
    "        \n",
    "        # define a window for the ordering\n",
    "        # row_number() function along with partitionBy() of other column populates the row number by group\n",
    "        # Since we want to order the whole DataFrame, so we don't need the partitionBy() function\n",
    "        w = Window().orderBy(col('ele').asc())\n",
    "        df_ver_order = df_ver_origin.withColumn(\"self_order\", F.row_number().over(w) -1) # let the row number start from 0\n",
    "        print(\"Number of partitions for df_ver_order:\", df_ver_order.rdd.getNumPartitions())\n",
    "        \n",
    "    return df_ver_order\n",
    "\n",
    "# read vertices\n",
    "df_ver_order = read_ver_order(filtra, directory, tin_filename)\n",
    "df_ver_order.printSchema()"
   ]
  },
  {
   "cell_type": "code",
   "execution_count": 9,
   "id": "baking-passenger",
   "metadata": {},
   "outputs": [
    {
     "name": "stdout",
     "output_type": "stream",
     "text": [
      "root\n",
      " |-- tri_order: integer (nullable = true)\n",
      " |-- r1: integer (nullable = true)\n",
      " |-- r2: integer (nullable = true)\n",
      " |-- r3: integer (nullable = true)\n",
      " |-- r1_ele: float (nullable = true)\n",
      " |-- r2_ele: float (nullable = true)\n",
      " |-- r3_ele: float (nullable = true)\n",
      "\n"
     ]
    }
   ],
   "source": [
    "# read_tetra_order() is a function used to read tetrahedron from a csv file\n",
    "def read_tri_order(hdfs_tin_tri_origin):\n",
    "    '''\n",
    "    hdfs_tin_tri_origin: path to the input triangle csv file\n",
    "    '''\n",
    "        \n",
    "    schema_tri_origin = StructType([ \\\n",
    "        StructField(\"tri_order\",IntegerType(),True), \\\n",
    "        StructField(\"r1\",IntegerType(),True), \\\n",
    "        StructField(\"r2\",IntegerType(),True), \\\n",
    "        StructField(\"r3\",IntegerType(),True), \\\n",
    "        StructField(\"r1_ele\",FloatType(),True), \\\n",
    "        StructField(\"r2_ele\",FloatType(),True), \\\n",
    "        StructField(\"r3_ele\",FloatType(),True)\n",
    "      ])\n",
    "\n",
    "    df_tri_origin = spark.read.format(\"csv\") \\\n",
    "          .option(\"header\", False) \\\n",
    "          .schema(schema_tri_origin)\\\n",
    "          .load(hdfs_tin_tri_origin)\n",
    "        \n",
    "    return df_tri_origin\n",
    "\n",
    "\n",
    "# read tetrahedra\n",
    "hdfs_tin_tri_origin = directory + \"/\" + tin_filename + '_filtra_tri_origin.csv'\n",
    "\n",
    "df_tri_order = read_tri_order(hdfs_tin_tri_origin)\n",
    "df_tri_order.printSchema()"
   ]
  },
  {
   "cell_type": "markdown",
   "id": "vulnerable-alarm",
   "metadata": {},
   "source": [
    "##### add a column for representing a triangle as an array of vertices"
   ]
  },
  {
   "cell_type": "code",
   "execution_count": 10,
   "id": "written-reader",
   "metadata": {},
   "outputs": [
    {
     "name": "stdout",
     "output_type": "stream",
     "text": [
      "root\n",
      " |-- tri_order: integer (nullable = true)\n",
      " |-- r1: integer (nullable = true)\n",
      " |-- r2: integer (nullable = true)\n",
      " |-- r3: integer (nullable = true)\n",
      " |-- r1_ele: float (nullable = true)\n",
      " |-- r2_ele: float (nullable = true)\n",
      " |-- r3_ele: float (nullable = true)\n",
      " |-- tri: array (nullable = false)\n",
      " |    |-- element: integer (containsNull = true)\n",
      " |-- tri_ele: array (nullable = false)\n",
      " |    |-- element: float (containsNull = true)\n",
      "\n"
     ]
    },
    {
     "data": {
      "text/plain": [
       "200"
      ]
     },
     "execution_count": 10,
     "metadata": {},
     "output_type": "execute_result"
    }
   ],
   "source": [
    "# sort the extreme vertices of a triangle in ascending order, e.g., (2,5,3) -> (2,3,5)\n",
    "\n",
    "'''\n",
    "def get_tri_array(r1, r2, r3):\n",
    "# get_multi_pt_index is used to obtain the adjacent vertexes index, including the vertex itself\n",
    "# pt_list1: partial adjacent vertex indexes of join result 1\n",
    "# pt_list2: partial adjacent vertex indexes of join result 2\n",
    "    tri = [r1, r2, r3]    \n",
    "    tri.sort(reverse=True)\n",
    "    \n",
    "    return tri\n",
    "\n",
    "# convert a function to an udf and determine the return type\n",
    "# https://spark.apache.org/docs/3.1.3/api/python/reference/api/pyspark.sql.functions.udf.html\n",
    "get_tri_array_udf = udf(get_tri_array, ArrayType(IntegerType()))\n",
    "df_tri_order = df_tri_order.withColumn(\"tri\", get_tri_array_udf(df_tri_order.r1, df_tri_order.r2, df_tri_order.r3))\n",
    "'''\n",
    "\n",
    "df_tri_order = df_tri_order.withColumn(\"tri_origin\", F.array(\"r1\", \"r2\", \"r3\")).withColumn(\"tri_ele_origin\", F.array(\"r1_ele\", \"r2_ele\", \"r3_ele\"))\n",
    "df_tri_order = df_tri_order.withColumn(\"tri\", sort_array(\"tri_origin\", False)).drop(\"tri_origin\") # sort_array(\"tri\", False), False means descending order\n",
    "df_tri_order = df_tri_order.withColumn(\"tri_ele\", sort_array(\"tri_ele_origin\", False)).drop(\"tri_ele_origin\") # sort_array(\"tri\", False), False means descending order\n",
    "\n",
    "df_tri_order.printSchema()\n",
    "df_tri_order.rdd.getNumPartitions()\n",
    "#df_tri_order.show()"
   ]
  },
  {
   "cell_type": "markdown",
   "id": "catholic-assistant",
   "metadata": {},
   "source": [
    "### globally get VT relation"
   ]
  },
  {
   "cell_type": "code",
   "execution_count": 11,
   "id": "measured-breeding",
   "metadata": {},
   "outputs": [],
   "source": [
    "# function to get VT directly from DF_T\n",
    "def get_VT(df_tri_order):\n",
    "    \n",
    "    df_VT_init_1 = df_tri_order.select(\"r1\",\"tri\")\n",
    "    df_VT_init_2 = df_tri_order.select(\"r2\",\"tri\")\n",
    "    df_VT_init_3 = df_tri_order.select(\"r3\",\"tri\")\n",
    "    \n",
    "    df_VT_union12 = df_VT_init_1.union(df_VT_init_2)\n",
    "    df_VT_union123 = df_VT_union12.union(df_VT_init_3)\n",
    "    \n",
    "    df_VT = df_VT_union123.groupBy('r1').agg(collect_list('tri').alias('VT'))\n",
    "    df_VT = df_VT.withColumnRenamed('r1', 'Ver')\n",
    "    \n",
    "    return df_VT"
   ]
  },
  {
   "cell_type": "code",
   "execution_count": 12,
   "id": "finite-setting",
   "metadata": {},
   "outputs": [
    {
     "name": "stdout",
     "output_type": "stream",
     "text": [
      "root\n",
      " |-- Ver: integer (nullable = true)\n",
      " |-- VT: array (nullable = true)\n",
      " |    |-- element: array (containsNull = true)\n",
      " |    |    |-- element: integer (containsNull = true)\n",
      "\n"
     ]
    }
   ],
   "source": [
    "df_VT = get_VT(df_tri_order)\n",
    "# df_VT = df_VT.withColumn('VT', df_VT.VT.cast(ArrayType(ArrayType(StringType()))))\n",
    "# df_VT = df_VT.withColumn('VT', df_VT.VT.cast(StringType()))\n",
    "\n",
    "df_VT.printSchema()"
   ]
  },
  {
   "cell_type": "code",
   "execution_count": 16,
   "id": "appreciated-aquarium",
   "metadata": {},
   "outputs": [
    {
     "name": "stdout",
     "output_type": "stream",
     "text": [
      "number of rows in df_VT: 97977344\n",
      "time for computing df_VT: 5.684948921203613\n"
     ]
    }
   ],
   "source": [
    "t0 = time.time()\n",
    "\n",
    "num_df_VT = df_VT.count()\n",
    "print(\"number of rows in df_VT:\", num_df_VT)\n",
    "\n",
    "t1 = time.time()\n",
    "print(\"time for computing df_VT:\", t1 - t0)"
   ]
  },
  {
   "cell_type": "markdown",
   "id": "careful-politics",
   "metadata": {},
   "source": [
    "### locally get VV relation"
   ]
  },
  {
   "cell_type": "code",
   "execution_count": 13,
   "id": "amateur-metallic",
   "metadata": {},
   "outputs": [],
   "source": [
    "# function to get VV from VT\n",
    "def get_VV_from_VT(Ver, VT):\n",
    "    pt_set = set()\n",
    "    if len(VT) > 0:\n",
    "        for tri in VT:\n",
    "            pt_set.update(tri)\n",
    "    \n",
    "    pt_set.remove(Ver)\n",
    "    VV = sorted(pt_set) # sorted(pt_set, reverse=False), False in ascending order while True in descending order\n",
    "    \n",
    "    return VV # directly return a list, e.g., [0, 1, 5, 6], the length of returned column list will be 12, incluing \"[\" and empty char\n",
    "\n",
    "# convert a function to an udf and determine the return type\n",
    "# https://spark.apache.org/docs/3.1.3/api/python/reference/api/pyspark.sql.functions.udf.html\n",
    "get_VV_from_VT_udf = udf(get_VV_from_VT, ArrayType(IntegerType()))"
   ]
  },
  {
   "cell_type": "code",
   "execution_count": 14,
   "id": "compressed-quick",
   "metadata": {},
   "outputs": [
    {
     "name": "stdout",
     "output_type": "stream",
     "text": [
      "root\n",
      " |-- Ver: integer (nullable = true)\n",
      " |-- VV: array (nullable = true)\n",
      " |    |-- element: integer (containsNull = true)\n",
      "\n"
     ]
    }
   ],
   "source": [
    "df_VV = df_VT.withColumn(\"VV\", get_VV_from_VT_udf(df_VT.Ver, df_VT.VT)).drop('VT')\n",
    "\n",
    "df_VV.printSchema()"
   ]
  },
  {
   "cell_type": "code",
   "execution_count": 17,
   "id": "periodic-taylor",
   "metadata": {},
   "outputs": [
    {
     "name": "stdout",
     "output_type": "stream",
     "text": [
      "number of rows in df_VV: 97977344\n",
      "time for computing df_VV: 5.716812372207642\n"
     ]
    }
   ],
   "source": [
    "t0 = time.time()\n",
    "\n",
    "num_df_VV = df_VV.count()\n",
    "print(\"number of rows in df_VV:\", num_df_VV)\n",
    "\n",
    "t1 = time.time()\n",
    "print(\"time for computing df_VV:\", t1 - t0)"
   ]
  },
  {
   "cell_type": "markdown",
   "id": "white-think",
   "metadata": {},
   "source": [
    "### locally get VE relation"
   ]
  },
  {
   "cell_type": "code",
   "execution_count": 18,
   "id": "novel-ability",
   "metadata": {},
   "outputs": [],
   "source": [
    "def get_VE_from_VV(Ver, VV):\n",
    "    # df_VT has three columns, Ver, Ver_ele, and VT_filtra\n",
    "    \n",
    "    if VV:\n",
    "        multi_E = []\n",
    "        for v_adj in VV:\n",
    "            if Ver > v_adj:\n",
    "                multi_E.append([Ver, v_adj])\n",
    "            else:\n",
    "                multi_E.append([v_adj, Ver])\n",
    "        return multi_E\n",
    "             \n",
    "get_VE_from_VV_udf = udf(get_VE_from_VV, ArrayType(ArrayType(IntegerType())))"
   ]
  },
  {
   "cell_type": "code",
   "execution_count": 19,
   "id": "specific-video",
   "metadata": {},
   "outputs": [
    {
     "name": "stdout",
     "output_type": "stream",
     "text": [
      "root\n",
      " |-- Ver: integer (nullable = true)\n",
      " |-- VE: array (nullable = true)\n",
      " |    |-- element: array (containsNull = true)\n",
      " |    |    |-- element: integer (containsNull = true)\n",
      "\n"
     ]
    }
   ],
   "source": [
    "df_VE = df_VV.withColumn(\"VE\", get_VE_from_VV_udf(df_VV.Ver, df_VV.VV))\n",
    "df_VE = df_VE.select(\"Ver\", \"VE\")\n",
    "df_VE.printSchema()"
   ]
  },
  {
   "cell_type": "code",
   "execution_count": 20,
   "id": "acute-toronto",
   "metadata": {},
   "outputs": [
    {
     "name": "stdout",
     "output_type": "stream",
     "text": [
      "number of rows in df_VE: 97977344\n",
      "time for computing df_VE: 5.298813581466675\n"
     ]
    }
   ],
   "source": [
    "t0 = time.time()\n",
    "\n",
    "num_df_VE = df_VE.count()\n",
    "print(\"number of rows in df_VE:\", num_df_VE)\n",
    "\n",
    "t1 = time.time()\n",
    "print(\"time for computing df_VE:\", t1 - t0)"
   ]
  },
  {
   "cell_type": "code",
   "execution_count": null,
   "id": "proud-climate",
   "metadata": {},
   "outputs": [],
   "source": []
  }
 ],
 "metadata": {
  "kernelspec": {
   "display_name": "Python 3",
   "language": "python",
   "name": "python3"
  },
  "language_info": {
   "codemirror_mode": {
    "name": "ipython",
    "version": 3
   },
   "file_extension": ".py",
   "mimetype": "text/x-python",
   "name": "python",
   "nbconvert_exporter": "python",
   "pygments_lexer": "ipython3",
   "version": "3.7.7"
  }
 },
 "nbformat": 4,
 "nbformat_minor": 5
}
